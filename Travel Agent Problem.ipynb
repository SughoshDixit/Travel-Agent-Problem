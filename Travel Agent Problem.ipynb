{
  "cells": [
    {
      "cell_type": "markdown",
      "metadata": {
        "id": "L-gbFTBmraYy"
      },
      "source": [
        "# Artificial and Computational Intelligence Assignment 1"
      ]
    },
    {
      "cell_type": "markdown",
      "source": [
        ""
      ],
      "metadata": {
        "id": "4diZr6DUnCz0"
      }
    },
    {
      "cell_type": "markdown",
      "metadata": {
        "id": "rR7LhHw6raY2"
      },
      "source": [
        "## Problem solving by Uninformed & Informed Search"
      ]
    },
    {
      "cell_type": "markdown",
      "metadata": {
        "id": "qJG8I65vraY3"
      },
      "source": [
        "List only the BITS (Name) of active contributors in this assignment:\n",
        "1. Sughosh P Dixit - 2021fa04058___________________\n",
        "2. Pulkit Khandelwal - 2021fc04905__________________\n",
        "3. Pooja Jain - 2021fc04203____________________\n",
        "4. Akash Goel - 2021fc04277___________________"
      ]
    },
    {
      "cell_type": "markdown",
      "metadata": {
        "id": "o0fpg4bQraY3"
      },
      "source": [
        "Things to follow\n",
        "1.\tUse appropriate data structures to represent the graph and the path using python libraries\n",
        "2.\tProvide proper documentation\n",
        "3.\tFind the path and print it"
      ]
    },
    {
      "cell_type": "markdown",
      "metadata": {
        "id": "3yQB-DCJraY4"
      },
      "source": [
        "Coding begins here"
      ]
    },
    {
      "cell_type": "markdown",
      "metadata": {
        "id": "ganfXs-LraY4"
      },
      "source": [
        "### 1.\tDefine the environment in the following block"
      ]
    },
    {
      "cell_type": "markdown",
      "metadata": {
        "id": "OQMpLwLVraY4"
      },
      "source": [
        "List the PEAS decription of the problem here in this markdown block\n",
        "1. **Performance Measure**: Performance measure is the unit to define the success of an agent. Performance varies with agents based on their different precepts.The agent here is the search agent which performs the searching algorithms to find the best possible path in terms of time taken and ticket cost which must be optimized based on priority.\n",
        "2. **Environment**: Environment is the surrounding of an agent at every instant. It keeps changing with time if the agent is set in motion. The type of environment that can be observed is deterministic and stochastic. It is able to determine the best possible path based on the given initial state and goal state. By statistical normalization the environment is stochastic which is able to consider parameters (Time Taken and Ticket Cost in this case) on equal grounds and compute.\n",
        "3. **Actuator**: An actuator is a part of the agent that delivers the output of action to the environment. The actuator is in the form of goalTest method which decides whether to terminate the search operation or continue searching.\n",
        "4. **Sensor**: Sensors are the receptive parts of an agent that takes in the input for the agent. Sensors are in this case the visited data structure which sense whether a given node of the graph is visited or not."
      ]
    },
    {
      "cell_type": "markdown",
      "metadata": {
        "id": "MdVm7g3YraY5"
      },
      "source": [
        "Design the agent as PSA Agent(Problem Solving Agent) \n",
        "Clear Initial data structures to define the graph and variable declarations is expected \n",
        "IMPORTANT: Write distinct code block as below"
      ]
    },
    {
      "cell_type": "code",
      "execution_count": 79,
      "metadata": {
        "id": "76GtD9YsraY6",
        "colab": {
          "base_uri": "https://localhost:8080/",
          "height": 0
        },
        "outputId": "ea16fa7a-1f13-4f0c-a704-0f7ba1997cbb"
      },
      "outputs": [
        {
          "output_type": "stream",
          "name": "stdout",
          "text": [
            "{'TU': {'JO': 1.2, 'SY': 0.5, 'IN': 2.6}, 'JO': {'SA': 1.12, 'SY': 0.04, 'IQ': 1.54, 'TU': 1.2}, 'SA': {'UAE': 1.44, 'IQ': 2.68, 'JO': 1.12}, 'UAE': {'SA': 1.44, 'KW': 1.8}, 'KW': {'UAE': 1.8, 'IQ': 2.4, 'IN': 3}, 'SY': {'TU': 0.5, 'JO': 0.04, 'IQ': 1.54}, 'IQ': {'SY': 1.54, 'JO': 1.54, 'KW': 2.4, 'SA': 2.68}, 'IN': {'TU': 2.6, 'KW': 3}}\n"
          ]
        }
      ],
      "source": [
        "#Code Block : Set the matrix for transition & cost (as relevant for the given problem)\n",
        "#importing required libraries\n",
        "from sklearn.preprocessing import StandardScaler,MinMaxScaler\n",
        "import pandas as pd\n",
        "import bisect\n",
        "import collections\n",
        "import collections.abc\n",
        "import heapq\n",
        "import operator\n",
        "import os.path\n",
        "import random\n",
        "import math\n",
        "import functools\n",
        "from itertools import chain, combinations\n",
        "\n",
        "#Below is the dictionary which denotes the ticket cost of each node\n",
        "GRAPH_Ticket = {\n",
        "            'TU': {'JO': 20, 'SY': 15, 'IN': 40},\n",
        "            'JO': {'SA': 16, 'SY': 12, 'IQ': 27, 'TU': 20},\n",
        "            'SA': {'UAE': 32, 'IQ': 44, 'JO': 16},\n",
        "            'UAE': {'SA': 32, 'KW': 50},\n",
        "            'KW': {'UAE': 50, 'IQ': 30, 'IN': 60},\n",
        "            'SY': {'TU': 15, 'JO': 12,'IQ': 27},\n",
        "            'IQ': {'SY': 10, 'JO': 27,'KW': 30,'SA': 44},\n",
        "            'IN': {'TU': 40, 'KW': 60}\n",
        "        }\n",
        "\n",
        "#Below is the dictionary whcih denotes the time taken to traverse each node\n",
        "graph_time = {\n",
        "            'TU': {'JO': 2, 'SY': 1, 'IN': 3},\n",
        "            'JO': {'SA': 2, 'SY': 1, 'IQ': 2, 'TU': 2},\n",
        "            'SA': {'UAE': 2, 'IQ': 3, 'JO': 2},\n",
        "            'UAE': {'SA': 2, 'KW': 2},\n",
        "            'KW': {'UAE': 2, 'IQ': 3, 'IN': 3},\n",
        "            'SY': {'TU': 1, 'JO': 1,'IQ': 2},\n",
        "            'IQ': {'SY': 2, 'JO': 3,'KW': 3,'SA': 3},\n",
        "            'IN': {'TU': 3, 'KW': 3}\n",
        "}\n",
        "\n",
        "#Given the problem statement the priority of the time taken is double the priority of ticket cost, hence we normalize both values using min-max scaler\n",
        "#and have the cost function as 2*t+c which when minimized will be the optimal cost\n",
        "data_ticket =pd.DataFrame(GRAPH_Ticket)\n",
        "scaler = MinMaxScaler()\n",
        "model = scaler.fit(data_ticket)\n",
        "scaled_data_ticket = model.transform(data_ticket)\n",
        "\n",
        "data_time =pd.DataFrame(graph_time)\n",
        "scaler = MinMaxScaler()\n",
        "model = scaler.fit(data_time)\n",
        "scaled_data_time = model.transform(data_time)\n",
        "#below heuristic matrix has vlaues computed based on the above defined cost function\n",
        "heuristic_matrix = scaled_data_ticket + 2*(scaled_data_time)\n",
        "\n",
        "#Graph with cost matrix with the normalized data of Ticket Cost and Time Taken \n",
        "input_cost_matrix = {\n",
        "     'TU': {'JO': 1.2, 'SY': 0.5, 'IN': 2.6},\n",
        "     'JO': {'SA': 1.12, 'SY': 0.04, 'IQ': 1.54, 'TU': 1.2},\n",
        "     'SA': {'UAE': 1.44, 'IQ': 2.68, 'JO': 1.12},\n",
        "     'UAE': {'SA': 1.44, 'KW': 1.8},\n",
        "     'KW': {'UAE': 1.8, 'IQ': 2.4, 'IN': 3},\n",
        "     'SY': {'TU': 0.5, 'JO': 0.04,'IQ': 1.54},\n",
        "     'IQ': {'SY': 1.54, 'JO': 1.54,'KW': 2.4,'SA': 2.68},\n",
        "     'IN': {'TU': 2.6, 'KW': 3}\n",
        "}\n",
        "print(input_cost_matrix)\n",
        "\n",
        "#Creation of Undirected Graph depicting the locations of all the countries\n",
        "def UndirectedGraph(graph_dict=None):\n",
        "    return Graph(graph_dict = graph_dict, directed=False)\n",
        "\n",
        "\n",
        "input_cost_Undirected_graph = UndirectedGraph(\n",
        "    {'TU': {'JO': 1.2, 'SY': 0.5, 'IN': 2.6},\n",
        "     'JO': {'SA': 1.12, 'SY': 0.04, 'IQ': 1.54},\n",
        "     'SA': {'UAE': 1.44, 'IQ': 2.68, },\n",
        "     'UAE': {'KW': 1.8},\n",
        "     'KW': {'IQ': 2.4, 'IN': 3},\n",
        "     'SY': {'IQ': 1.54},\n",
        "     'IQ': {'KW': 2.4}})\n",
        "\n",
        "#Below is the locations of all the countris on a 2d Graph\n",
        "input_cost_Undirected_graph.locations = dict(\n",
        "    TU=(20, 20), IN=(40, 20), KW=(60, 15),\n",
        "    SY=(50, 10), IQ=(30, 15), JO=(20, 10),\n",
        "    UAE=(15, 7), SA=(25, 7))"
      ]
    },
    {
      "cell_type": "markdown",
      "metadata": {
        "id": "fCVU7oSOraY7"
      },
      "source": [
        "### 2. Depth First Search"
      ]
    },
    {
      "cell_type": "code",
      "execution_count": 72,
      "metadata": {
        "id": "Y7R8EolLraY7"
      },
      "outputs": [],
      "source": [
        "#Clase node\n",
        "class Node_DFS:\n",
        "\n",
        "    def __init__(self,state,parent=None,action=None,path_cost=0):\n",
        "        self.state=state\n",
        "        self.parent=parent\n",
        "        self.action=action\n",
        "        self.path_cost=path_cost\n",
        "\n",
        "    def childNode(self,gp,action):\n",
        "        childState=gp.result(self.state,action)\n",
        "        path_cost_to_childNode = gp.pathCost(self.path_cost,self.state,action,childState)\n",
        "        return Node_DFS(childState,self,action,path_cost_to_childNode)\n",
        "\n",
        "    def expand(self,gp):\n",
        "        return [self.childNode(gp,action) for action in gp.actions(self.state)]\n",
        "\n",
        "#Travel Agent class\n",
        "class TravelAgent:\n",
        "\n",
        "    def __init__(self,initial,goal,graph):\n",
        "        self.initial=initial\n",
        "        self.goal=goal\n",
        "        self.graph=graph\n",
        "\n",
        "    def actions(self,state):\n",
        "        return list(input_cost_matrix[state].keys())\n",
        "\n",
        "    def result(self,state,action):\n",
        "        return action\n",
        "    #function to handle goal test (Must handle dynamic inputs).\n",
        "    def goalTest(self,state):\n",
        "        return state == self.goal\n",
        "\n",
        "    def pathCost(self,cost_so_far, fromState,action,toState):\n",
        "        return cost_so_far + input_cost_matrix[fromState][toState]\n",
        "  \n",
        "#Depth First Search implementation using stack approach\n",
        "def DepthFirstSearch(gp,index, route):\n",
        "    frontier=[]\n",
        "    initialNode=Node_DFS(gp.initial)\n",
        "    frontier.append(initialNode)\n",
        "    explored=set()\n",
        "\n",
        "    while frontier:\n",
        "        print('Frontier: ', [node.state for node in frontier])\n",
        "        if len(frontier) == 0 : return 'Failure' #If Initial state is the goal state\n",
        "  \n",
        "        node= frontier.pop(index)\n",
        "        print('Pop : ', node.state)\n",
        "        route.append(node.state)\n",
        "        \n",
        "        if gp.goalTest(node.state): return node #Checking if goal state is achieved\n",
        "\n",
        "        explored.add(node.state)\n",
        "        \n",
        "        for child in node.expand(gp):\n",
        "            print('Chld Node: ',child.state)\n",
        "            if child.state not in explored and child not in frontier:\n",
        "                frontier.append(child)\n",
        "\n",
        "        print('===================================')\n",
        "\n",
        "    return None\n",
        "\n"
      ]
    },
    {
      "cell_type": "markdown",
      "metadata": {
        "id": "7AGuU5xYraY7"
      },
      "source": [
        "### 3.\t Recursive Best First Search"
      ]
    },
    {
      "cell_type": "code",
      "execution_count": 73,
      "metadata": {
        "id": "c_aRDIIwraY7"
      },
      "outputs": [],
      "source": [
        "def is_in(elt, seq):\n",
        "    \"\"\"Similar to (elt in seq), but compares with 'is', not '=='.\"\"\"\n",
        "    return any(x is elt for x in seq)\n",
        "\n",
        "def distance(a, b):\n",
        "    \"\"\"The distance between two (x, y) points.\"\"\"\n",
        "    xA, yA = a\n",
        "    xB, yB = b\n",
        "    return math.hypot((xA - xB), (yA - yB))\n",
        "\n",
        "infinity = float('inf')\n",
        "\n",
        "class Graph: # For undirected graphs only\n",
        "    def __init__(self, graph_dict=None, directed=True):\n",
        "        self.graph_dict = graph_dict or {}\n",
        "        self.directed = directed\n",
        "\n",
        "    def get(self, a, b=None):\n",
        "        links = self.graph_dict.setdefault(a, {})\n",
        "        if b is None:\n",
        "            return links\n",
        "        else:\n",
        "            return links.get(b)\n",
        "\n",
        "class Problem(object):\n",
        "    def __init__(self, initial, goal=None):\n",
        "       self.initial = initial\n",
        "       self.goal = goal\n",
        "\n",
        "    def actions(self, state):\n",
        "         raise NotImplementedError\n",
        "\n",
        "    def result(self, state, action):\n",
        "        raise NotImplementedError\n",
        "    #function to handle goal test (Must handle dynamic inputs).\n",
        "    def goal_test(self, state):\n",
        "        if isinstance(self.goal, list):\n",
        "            return is_in(state, self.goal)\n",
        "        else:            \n",
        "            return state == self.goal\n",
        "\n",
        "    def path_cost(self, c, state1, action, state2):\n",
        "        return c + 1\n",
        "\n",
        "    def value(self, state):\n",
        "        raise NotImplementedError\n",
        "\n",
        "class GraphProblem(Problem):\n",
        "    def __init__(self, initial, goal, graph):\n",
        "        Problem.__init__(self, initial, goal)\n",
        "        self.graph = graph\n",
        "\n",
        "    def actions(self, A):\n",
        "        return list(self.graph.get(A).keys())\n",
        "\n",
        "    def result(self, state, action):\n",
        "        return action\n",
        "\n",
        "    def path_cost(self, cost_so_far, A, action, B):\n",
        "        return cost_so_far + (self.graph.get(A, B) or infinity)\n",
        "\n",
        "    def h(self, node):\n",
        "        locs = getattr(self.graph, 'locations', None)\n",
        "        if locs:\n",
        "            if type(node) is str:               \n",
        "                return int(distance(locs[node], locs[self.goal]))\n",
        "            return int(distance(locs[node.state], locs[self.goal])) ##this line works\n",
        "        else:\n",
        "            return infinity\n",
        "\n",
        "class Node_RBFS:\n",
        "    def __init__(self, state, parent=None, action=None, path_cost=0):\n",
        "        self.state = state\n",
        "        self.parent = parent\n",
        "        self.action = action\n",
        "        self.path_cost = path_cost\n",
        "        self.f=0 #extra variable to represent total cost\n",
        "        self.depth = 0\n",
        "        if parent:\n",
        "            self.depth = parent.depth + 1\n",
        "\n",
        "    def __repr__(self):\n",
        "        return \"<Node {}>\".format(self.state)\n",
        " \n",
        "    def expand(self, problem):\n",
        "        return [self.child_node(problem, action)\n",
        "                for action in problem.actions(self.state)]\n",
        "\n",
        "    def child_node(self, problem, action): # to make node object of each child\n",
        "        next_state = problem.result(self.state, action)\n",
        "        new_cost = problem.path_cost(self.path_cost, self.state,action, next_state)\n",
        "        next_node = Node_RBFS(next_state, self, action,new_cost )      \n",
        "        return next_node\n",
        "   \n",
        "    def solution(self): # extracts the path of solution\n",
        "        return [node.state for node in self.path()]\n",
        "\n",
        "    def path(self): # extracts the path of any node starting from current to source\n",
        "        node, path_back = self, []\n",
        "        while node:\n",
        "            path_back.append(node)\n",
        "            node = node.parent\n",
        "        return list(reversed(path_back)) # order changed to show from source to current\n",
        "\n",
        "#Forming an undirected graph using a dictionary data structure\n",
        "def UndirectedGraph(graph_dict=None):\n",
        "    return Graph(graph_dict = graph_dict, directed=False)\n",
        "\n",
        "\n",
        "#Expanding to child nodes\n",
        "def mymax(childf,nodef, child,node):\n",
        "    if childf>=nodef:\n",
        "        print(\"node=\", node.state, \", child=\", child.state, \n",
        "              \", node f=\",nodef, \" childf = \", childf, \" assigning child's f\" )        \n",
        "        return childf\n",
        "    else:\n",
        "        print(\"node=\", node.state, \", child=\", child.state, \n",
        "              \", node f=\",nodef, \" childf = \", childf, \" assigning node's  f <----\" )        \n",
        "        return nodef\n",
        "\n",
        "def RecursiveBFS(problem) : \n",
        "    startnode = Node_RBFS(problem.initial)\n",
        "    startnode.f = problem.h(problem.initial)\n",
        "    return RBFS(problem, startnode,infinity)\n",
        "\n",
        "#implementation of recursive best search algorithm\n",
        "def RBFS(problem, node,f_limit) :\n",
        "    print(\"\\nIn RBFS Function with node \", node.state, \" with node's f value = \", node.f , \" and f-limit = \", f_limit)\n",
        "    if problem.goal_test(node.state) :\n",
        "        return [node, None]  \n",
        "    successors = []\n",
        "    for child in node.expand(problem):\n",
        "        gval = child.path_cost\n",
        "        hval = problem.h(child)\n",
        "        child.f = mymax(gval+hval , node.f,child, node)\n",
        "        successors.append(child)    \n",
        "    print(\"\\n Got following successors for  \",node.state, \":\", successors)\n",
        "    if len(successors) == 0 :\n",
        "        return [None, infinity]\n",
        "    while True:        \n",
        "        best  = lowest_fvalue_node(successors)\n",
        "        if best.f > f_limit :\n",
        "            return [None, best.f]\n",
        "        alternative = second_lowest_fvalue(successors, best.f)        \n",
        "        x = RBFS(problem, best, min(f_limit, alternative))\n",
        "        result = x[0]        \n",
        "        print(\"updating f value of best node \", best.state, \" from \", best.f , \" to \", x[1] )\n",
        "        best.f = x[1]                    \n",
        "        if result != None :\n",
        "            return [result, None]\n",
        "\n",
        "#The fvalue here denotes the distance of each path with the other which are defined on the locations of the undirected graph\n",
        "#and the minimum cost path with start state and goal state are considered      \n",
        "def lowest_fvalue_node(nodelist):\n",
        "    min_fval = nodelist[0].f\n",
        "    min_fval_node_index=0    \n",
        "    for n in range(1,len(nodelist)):        \n",
        "        if nodelist[n].f < min_fval :\n",
        "            min_fval_node_index = n\n",
        "            min_fval = nodelist[n].f\n",
        "    return nodelist[min_fval_node_index]\n",
        "#Computing the second min value\n",
        "def second_lowest_fvalue(nodelist,lowest_f): \n",
        "    secondmin_fval = infinity\n",
        "    for n in range(0,len(nodelist)):        \n",
        "        if nodelist[n].f > lowest_f and nodelist[n].f < secondmin_fval :            \n",
        "            secondmin_fval = nodelist[n].f\n",
        "    return secondmin_fval"
      ]
    },
    {
      "cell_type": "markdown",
      "metadata": {
        "id": "wRzuPJbwraY8"
      },
      "source": [
        "### DYNAMIC INPUT"
      ]
    },
    {
      "cell_type": "markdown",
      "metadata": {
        "id": "IdntSgdhraY8"
      },
      "source": [
        "IMPORTANT : Dynamic Input must be got in this section. Display the possible states to choose from:\n",
        "This is applicable for all the relevent problems as mentioned in the question. "
      ]
    },
    {
      "cell_type": "code",
      "execution_count": 75,
      "metadata": {
        "id": "SN_aVqTrraY8",
        "colab": {
          "base_uri": "https://localhost:8080/",
          "height": 0
        },
        "outputId": "6ee54b58-2c5d-42e8-d9af-b9ef0fc6293e"
      },
      "outputs": [
        {
          "output_type": "stream",
          "name": "stdout",
          "text": [
            "Enter the start state from the nodes givenJO\n",
            "Enter the goal state from the nodes givenKW\n",
            "select which search you want to implement:\n",
            "1.DFS-Depth First Report\n",
            "2.RBFS-Recursive Best First Search\n",
            "2\n",
            " Result of Informed Search: RBFS \n",
            "===================================\n",
            "\n",
            "\n",
            "Solving for JO  to  KW ....\n",
            "\n",
            "In RBFS Function with node  JO  with node's f value =  40  and f-limit =  inf\n",
            "node= JO , child= SA , node f= 40  childf =  36.12  assigning node's  f <----\n",
            "node= JO , child= SY , node f= 40  childf =  11.04  assigning node's  f <----\n",
            "node= JO , child= IQ , node f= 40  childf =  31.54  assigning node's  f <----\n",
            "\n",
            " Got following successors for   JO : [<Node SA>, <Node SY>, <Node IQ>]\n",
            "\n",
            "In RBFS Function with node  SA  with node's f value =  40  and f-limit =  inf\n",
            "node= SA , child= UAE , node f= 40  childf =  47.56  assigning child's f\n",
            "node= SA , child= IQ , node f= 40  childf =  33.8  assigning node's  f <----\n",
            "\n",
            " Got following successors for   SA : [<Node UAE>, <Node IQ>]\n",
            "\n",
            "In RBFS Function with node  IQ  with node's f value =  40  and f-limit =  47.56\n",
            "node= IQ , child= KW , node f= 40  childf =  6.2  assigning node's  f <----\n",
            "\n",
            " Got following successors for   IQ : [<Node KW>]\n",
            "\n",
            "In RBFS Function with node  KW  with node's f value =  40  and f-limit =  47.56\n",
            "updating f value of best node  KW  from  40  to  None\n",
            "updating f value of best node  IQ  from  40  to  None\n",
            "updating f value of best node  SA  from  40  to  None\n",
            "===================================\n",
            "Path taken : [<Node JO>, <Node SA>, <Node IQ>, <Node KW>]\n",
            "Path Cost : 6.2\n"
          ]
        }
      ],
      "source": [
        "#Code Block : Function & call to get inputs (start/end state)\n",
        "start_state = input('Enter the start state from the nodes given')\n",
        "end_state = input('Enter the goal state from the nodes given')\n",
        "\n",
        "\n",
        "decision=input('select which search you want to implement:\\n1.DFS-Depth First Report\\n2.RBFS-Recursive Best First Search\\n')\n",
        "if(decision=='1'):\n",
        "  gp=TravelAgent(start_state,end_state,input_cost_matrix)\n",
        "  route=[]\n",
        "  print ( \" Result of Uninformed Search: DFS \" )\n",
        "  print('===================================')\n",
        "  print(\"\\n\\nSolving for\",start_state,\" to \",end_state,\"....\")\n",
        "  node=DepthFirstSearch(gp,-1,route)\n",
        "  print('===================================')\n",
        "  print('Path:', (', '.join(route)))\n",
        "  print('Cost of the travel: ', node.path_cost)\n",
        "elif(decision=='2'):\n",
        "  print ( \" Result of Informed Search: RBFS \" )\n",
        "  print('===================================')\n",
        "  print(\"\\n\\nSolving for\",start_state,\" to \",end_state,\"....\")\n",
        "  gp1 = GraphProblem(start_state, end_state, input_cost_Undirected_graph)\n",
        "  resultnode = RecursiveBFS(gp1)\n",
        "  if(resultnode[0] != None ):\n",
        "      print('===================================')\n",
        "      print(\"Path taken :\" , resultnode[0].path())\n",
        "      print(\"Path Cost :\" , resultnode[0].path_cost)\n",
        "else:\n",
        "  print('Invalid Choice')"
      ]
    },
    {
      "cell_type": "markdown",
      "metadata": {
        "id": "91M8kS2GraY8"
      },
      "source": [
        "K### 4.\tCalling the search algorithms\n",
        "(For bidirectional search in below sections first part can be used as per Hint provided. Under second section other combinations as per Hint or your choice of 2 algorithms can be called .As an analyst suggest suitable approximation in the comparitive analysis section)"
      ]
    },
    {
      "cell_type": "code",
      "execution_count": null,
      "metadata": {
        "id": "IEbzXFpyraY8",
        "colab": {
          "base_uri": "https://localhost:8080/"
        },
        "outputId": "b99bd0b1-022b-429e-db2c-b83810309d59"
      },
      "outputs": [
        {
          "output_type": "stream",
          "name": "stdout",
          "text": [
            "Enter the start state from the nodes givenUAE\n",
            "Enter the goal state from the nodes givenTU\n",
            " Result of Uninformed Search: DFS \n",
            "===================================\n",
            "Frontier:  ['UAE']\n",
            "Pop :  UAE\n",
            "Chld Node:  SA\n",
            "Chld Node:  KW\n",
            "===================================\n",
            "Frontier:  ['SA', 'KW']\n",
            "Pop :  KW\n",
            "Chld Node:  UAE\n",
            "Chld Node:  IQ\n",
            "Chld Node:  IN\n",
            "===================================\n",
            "Frontier:  ['SA', 'IQ', 'IN']\n",
            "Pop :  IN\n",
            "Chld Node:  TU\n",
            "Chld Node:  KW\n",
            "===================================\n",
            "Frontier:  ['SA', 'IQ', 'TU']\n",
            "Pop :  TU\n",
            "===================================\n",
            "Path taken : UAE, KW, IN, TU\n",
            "Path Cost :  7.4\n"
          ]
        }
      ],
      "source": [
        "#Invoke algorithm 1 (Should Print the solution, path, cost etc., (As mentioned in the problem))\n",
        "start_state = input('Enter the start state from the nodes given')\n",
        "end_state = input('Enter the goal state from the nodes given')\n",
        "\n",
        "gp=TravelAgent(start_state,end_state,input_cost_matrix)\n",
        "route=[]\n",
        "print ( \" Result of Uninformed Search: DFS \" )\n",
        "print('===================================')\n",
        "node=DepthFirstSearch(gp,-1,route)\n",
        "print('===================================')\n",
        "print('Path taken :', (', '.join(route)))\n",
        "print('Path Cost : ', node.path_cost)"
      ]
    },
    {
      "cell_type": "code",
      "execution_count": null,
      "metadata": {
        "id": "NQRAoRboraY9",
        "colab": {
          "base_uri": "https://localhost:8080/"
        },
        "outputId": "fb92fe28-f033-4f58-a6d9-0c8ed18c6dc6"
      },
      "outputs": [
        {
          "output_type": "stream",
          "name": "stdout",
          "text": [
            "Enter the start state from the nodes givenJO\n",
            "Enter the goal state from the nodes givenKW\n",
            " Result of Informed Search: RBFS \n",
            "===================================\n",
            "\n",
            "\n",
            "Solving for JO  to  KW ....\n",
            "\n",
            "In RBFS Function with node  JO  with node's f value =  40  and f-limit =  inf\n",
            "node= JO , child= SA , node f= 40  childf =  36.12  assigning node's  f <----\n",
            "node= JO , child= SY , node f= 40  childf =  11.04  assigning node's  f <----\n",
            "node= JO , child= IQ , node f= 40  childf =  31.54  assigning node's  f <----\n",
            "\n",
            " Got following successors for   JO : [<Node SA>, <Node SY>, <Node IQ>]\n",
            "\n",
            "In RBFS Function with node  SA  with node's f value =  40  and f-limit =  inf\n",
            "node= SA , child= UAE , node f= 40  childf =  47.56  assigning child's f\n",
            "node= SA , child= IQ , node f= 40  childf =  33.8  assigning node's  f <----\n",
            "\n",
            " Got following successors for   SA : [<Node UAE>, <Node IQ>]\n",
            "\n",
            "In RBFS Function with node  IQ  with node's f value =  40  and f-limit =  47.56\n",
            "node= IQ , child= KW , node f= 40  childf =  6.2  assigning node's  f <----\n",
            "\n",
            " Got following successors for   IQ : [<Node KW>]\n",
            "\n",
            "In RBFS Function with node  KW  with node's f value =  40  and f-limit =  47.56\n",
            "updating f value of best node  KW  from  40  to  None\n",
            "updating f value of best node  IQ  from  40  to  None\n",
            "updating f value of best node  SA  from  40  to  None\n",
            "===================================\n",
            "Path taken : [<Node JO>, <Node SA>, <Node IQ>, <Node KW>]\n",
            "Path Cost : 6.2\n"
          ]
        }
      ],
      "source": [
        "#Invoke algorithm 2 (Should Print the solution, path, cost etc., (As mentioned in the problem))\n",
        "start_state = input('Enter the start state from the nodes given')\n",
        "end_state = input('Enter the goal state from the nodes given')\n",
        "\n",
        "print ( \" Result of Informed Search: RBFS \" )\n",
        "print('===================================')\n",
        "print(\"\\n\\nSolving for\",start_state,\" to \",end_state,\"....\")\n",
        "gp1 = GraphProblem(start_state, end_state, input_cost_Undirected_graph)\n",
        "resultnode = RecursiveBFS(gp1)\n",
        "if(resultnode[0] != None ):\n",
        "    print('===================================')\n",
        "    print(\"Path taken :\" , resultnode[0].path())\n",
        "    print(\"Path Cost :\" , resultnode[0].path_cost)"
      ]
    },
    {
      "cell_type": "markdown",
      "metadata": {
        "id": "bKGDmTJsraY9"
      },
      "source": [
        "### 5.\tComparitive Analysis"
      ]
    },
    {
      "cell_type": "code",
      "execution_count": 77,
      "metadata": {
        "id": "IEt-r2PlraY-",
        "colab": {
          "base_uri": "https://localhost:8080/",
          "height": 0
        },
        "outputId": "6f643699-539d-49a0-ea30-e905081b24e0"
      },
      "outputs": [
        {
          "output_type": "stream",
          "name": "stdout",
          "text": [
            "Enter the start state from the nodes givenTU\n",
            "Enter the goal state from the nodes givenKW\n",
            " Result of Uninformed Search: DFS \n",
            "===================================\n",
            "Frontier:  ['TU']\n",
            "Pop :  TU\n",
            "Chld Node:  JO\n",
            "Chld Node:  SY\n",
            "Chld Node:  IN\n",
            "===================================\n",
            "Frontier:  ['JO', 'SY', 'IN']\n",
            "Pop :  IN\n",
            "Chld Node:  TU\n",
            "Chld Node:  KW\n",
            "===================================\n",
            "Frontier:  ['JO', 'SY', 'KW']\n",
            "Pop :  KW\n",
            "===================================\n",
            "Path taken : TU, IN, KW\n",
            "Path Cost :  5.6\n",
            "time taken: [0.005609035491943359]\n",
            "Worst Case Time Complexity of DFS is O(V+E)\n",
            "\n",
            "Space Complexity of DFS is O(V)\n",
            "\n",
            "Note: Here E denotes the no of edges and V denoted no of vertices\n",
            "\n"
          ]
        }
      ],
      "source": [
        "#Code Block : Print the Time & Space complexity of algorithm 1\n",
        "import time\n",
        "start_state = input('Enter the start state from the nodes given')\n",
        "end_state = input('Enter the goal state from the nodes given')\n",
        "times=[]\n",
        "start_time = time.time() \n",
        "gp=TravelAgent(start_state,end_state,input_cost_matrix)\n",
        "route=[]\n",
        "print ( \" Result of Uninformed Search: DFS \" )\n",
        "print('===================================')\n",
        "node=DepthFirstSearch(gp,-1,route)\n",
        "print('===================================')\n",
        "print('Path taken :', (', '.join(route)))\n",
        "print('Path Cost : ', node.path_cost)\n",
        "elapsed_time = time.time() - start_time\n",
        "times.append(elapsed_time)\n",
        "print('time taken:',times)\n",
        "print('Worst Case Time Complexity of DFS is O(V+E)\\n')\n",
        "print('Space Complexity of DFS is O(V)\\n')\n",
        "print('Note: Here E denotes the no of edges and V denoted no of vertices\\n')"
      ]
    },
    {
      "cell_type": "code",
      "execution_count": 78,
      "metadata": {
        "id": "xDKADjKMraY-",
        "colab": {
          "base_uri": "https://localhost:8080/",
          "height": 0
        },
        "outputId": "15b351cb-bb6f-491f-d1f8-c782b4fcc6a0"
      },
      "outputs": [
        {
          "output_type": "stream",
          "name": "stdout",
          "text": [
            "Enter the start state from the nodes givenTU\n",
            "Enter the goal state from the nodes givenKW\n",
            " Result of Informed Search: RBFS \n",
            "===================================\n",
            "\n",
            "\n",
            "Solving for TU  to  KW ....\n",
            "\n",
            "In RBFS Function with node  TU  with node's f value =  40  and f-limit =  inf\n",
            "node= TU , child= JO , node f= 40  childf =  41.2  assigning child's f\n",
            "node= TU , child= SY , node f= 40  childf =  11.5  assigning node's  f <----\n",
            "node= TU , child= IN , node f= 40  childf =  22.6  assigning node's  f <----\n",
            "\n",
            " Got following successors for   TU : [<Node JO>, <Node SY>, <Node IN>]\n",
            "\n",
            "In RBFS Function with node  SY  with node's f value =  40  and f-limit =  41.2\n",
            "node= SY , child= IQ , node f= 40  childf =  32.04  assigning node's  f <----\n",
            "\n",
            " Got following successors for   SY : [<Node IQ>]\n",
            "\n",
            "In RBFS Function with node  IQ  with node's f value =  40  and f-limit =  41.2\n",
            "node= IQ , child= KW , node f= 40  childf =  4.4399999999999995  assigning node's  f <----\n",
            "\n",
            " Got following successors for   IQ : [<Node KW>]\n",
            "\n",
            "In RBFS Function with node  KW  with node's f value =  40  and f-limit =  41.2\n",
            "updating f value of best node  KW  from  40  to  None\n",
            "updating f value of best node  IQ  from  40  to  None\n",
            "updating f value of best node  SY  from  40  to  None\n",
            "===================================\n",
            "Path taken : [<Node TU>, <Node SY>, <Node IQ>, <Node KW>]\n",
            "Path Cost : 4.4399999999999995\n",
            "time taken [0.011774301528930664]\n",
            "Worst Case Time Complexity of RBFS is O(nlogn)\n",
            "\n",
            "Space Complexity of RBFS is O(b m)\n",
            "\n",
            "Note: Here n is the no of nodes, b is the branching factor and m is the maximum depth of the search space\n",
            "\n"
          ]
        }
      ],
      "source": [
        "#Code Block : Print the Time & Space complexity of algorithm 2\n",
        "import time\n",
        "start_state = input('Enter the start state from the nodes given')\n",
        "end_state = input('Enter the goal state from the nodes given')\n",
        "times=[]\n",
        "start_time = time.time()\n",
        "print ( \" Result of Informed Search: RBFS \" )\n",
        "print('===================================')\n",
        "print(\"\\n\\nSolving for\",start_state,\" to \",end_state,\"....\")\n",
        "gp1 = GraphProblem(start_state, end_state, input_cost_Undirected_graph)\n",
        "resultnode = RecursiveBFS(gp1)\n",
        "if(resultnode[0] != None ):\n",
        "    print('===================================')\n",
        "    print(\"Path taken :\" , resultnode[0].path())\n",
        "    print(\"Path Cost :\" , resultnode[0].path_cost)\n",
        "elapsed_time = time.time() - start_time\n",
        "times.append(elapsed_time)\n",
        "print('time taken',times)\n",
        "print('Worst Case Time Complexity of RBFS is O(nlogn)\\n')\n",
        "print('Space Complexity of RBFS is O(b m)\\n')\n",
        "print('Note: Here n is the no of nodes, b is the branching factor and m is the maximum depth of the search space\\n')"
      ]
    },
    {
      "cell_type": "markdown",
      "metadata": {
        "id": "1fM0HssRraY-"
      },
      "source": [
        "### 6.\tProvide your comparitive analysis or findings in no more than 3 lines in below section"
      ]
    },
    {
      "cell_type": "markdown",
      "metadata": {
        "id": "tYj4RZSNraY_"
      },
      "source": [
        "Comparison : Depth first search which can be categorized as an Uniformed Search algorithm will always fetch the shortest path with a lower time complexity, but cannot ensure if the cost of the path is optimal, whereas Recursive Best First Search which is a Informed type of searching algorithm, although having a larger time complexity  will ensure that it recursively compute and fetch the optimal path._______________________________________________ \n",
        "\n",
        "________________________________________________________\n",
        "\n",
        "_________________________________________________________"
      ]
    }
  ],
  "metadata": {
    "kernelspec": {
      "display_name": "Python 3",
      "language": "python",
      "name": "python3"
    },
    "language_info": {
      "codemirror_mode": {
        "name": "ipython",
        "version": 3
      },
      "file_extension": ".py",
      "mimetype": "text/x-python",
      "name": "python",
      "nbconvert_exporter": "python",
      "pygments_lexer": "ipython3",
      "version": "3.8.8"
    },
    "colab": {
      "name": "ACI-Assignment-1_Group30.ipynb",
      "provenance": [],
      "collapsed_sections": []
    }
  },
  "nbformat": 4,
  "nbformat_minor": 0
}